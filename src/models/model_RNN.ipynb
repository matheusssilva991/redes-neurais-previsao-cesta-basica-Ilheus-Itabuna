{
 "cells": [
  {
   "cell_type": "code",
   "execution_count": 1,
   "metadata": {
    "ExecuteTime": {
     "end_time": "2022-08-30T22:26:42.843503Z",
     "start_time": "2022-08-30T22:26:39.736492Z"
    },
    "pycharm": {
     "name": "#%%\n"
    },
    "tags": []
   },
   "outputs": [],
   "source": [
    "import pandas as pd\n",
    "import json\n",
    "import configparser\n",
    "from pathlib import Path\n",
    "import os\n",
    "\n",
    "import tensorflow as tf\n",
    "from tensorflow.keras.models import Sequential\n",
    "from tensorflow.keras.layers import Dense\n",
    "from tensorflow.keras.layers import SimpleRNN\n",
    "\n",
    "configs = configparser.ConfigParser()\n",
    "configs.read(\"../../configuracoes.conf\",encoding='utf-8')\n",
    "data_folder = Path(configs[\"DEFAULT\"][\"folder_path\"])\n",
    "path = data_folder / configs[\"DEFAULT\"][\"file\"]\n",
    "objeto = configs[\"DEFAULT\"][\"objeto\"]\n",
    "regiao = configs[\"DEFAULT\"][\"regiao\"]\n",
    "\n",
    "look_back = 12 #Quantidade de meses anteriores usado para prever\n",
    "forecast_horizon = int(configs[\"DEFAULT\"][\"meses\"]) #Quantidade de meses a serem previstos"
   ]
  },
  {
   "cell_type": "markdown",
   "metadata": {
    "pycharm": {
     "name": "#%% md\n"
    }
   },
   "source": [
    "# Prever Cesta"
   ]
  },
  {
   "cell_type": "code",
   "execution_count": 2,
   "metadata": {
    "collapsed": true,
    "jupyter": {
     "outputs_hidden": true
    },
    "pycharm": {
     "is_executing": true,
     "name": "#%%\n"
    }
   },
   "outputs": [
    {
     "name": "stdout",
     "output_type": "stream",
     "text": [
      "1/1 [==============================] - 0s 241ms/step\n",
      "Arquivo com resultados gerados\n"
     ]
    }
   ],
   "source": [
    "#Carrega os dados\n",
    "cesta = pd.read_excel(path)\n",
    "cesta.drop(['ano'], axis=1, inplace=True)\n",
    "cesta = cesta / 1000\n",
    "cesta = cesta.iloc[::, ::]\n",
    "\n",
    "#Cria sequencias de tempo de tamanho (meses anteriores + meses a serem previstos)\n",
    "for n_step in range(1, look_back + forecast_horizon):\n",
    "    cesta[f'preco t(h + {n_step})'] = cesta['preco'].shift(-n_step).values\n",
    "cesta.dropna(inplace=True)\n",
    "cesta.reset_index(drop=True, inplace=True)\n",
    "\n",
    "#Divide os dados em Treino e Teste\n",
    "X_train = cesta.iloc[::, :look_back:].values\n",
    "y_train = cesta.iloc[::, look_back::].values\n",
    "X_val = cesta.iloc[-1::, -12::].values\n",
    "\n",
    "#remodela os dados para formato (batches, sequencia de tempo, features)\n",
    "X_train = X_train.reshape((X_train.shape[0], X_train.shape[1], 1))\n",
    "X_val = X_val.reshape((X_val.shape[0], X_val.shape[1], 1))\n",
    "\n",
    "#Cria o modelo\n",
    "model=Sequential()\n",
    "model.add(SimpleRNN(24, stateful=True, input_shape=(look_back, 1), batch_input_shape=(1, look_back, 1)))\n",
    "model.add(Dense(forecast_horizon))\n",
    "model.compile(loss='mean_squared_error', optimizer=tf.keras.optimizers.Adam(learning_rate=0.0003))\n",
    "\n",
    "#Treina e prever (forecast_horizon) quantidade de tempo\n",
    "history = model.fit(X_train, y_train, epochs= 150, batch_size=1, shuffle=False, verbose=0)\n",
    "forecast = model.predict(X_val, batch_size=1)\n",
    "\n",
    "results = [value for value in forecast[0]]\n",
    "objeto = objeto.replace(\" \",'_')\n",
    "output = {objeto.lower():str(results)}\n",
    "\n",
    "if forecast_horizon == 12:\n",
    "    file_name = f\"previsao_RNN_12_meses_{objeto.lower()}_{regiao.lower()}.json\"\n",
    "else:\n",
    "    file_name = f\"previsao_RNN_{objeto.lower()}_{regiao.lower()}.json\"\n",
    "\n",
    "full_url = f\"../../output/previsoes_cesta/{file_name}\"\n",
    "os.makedirs(os.path.dirname(full_url), exist_ok=True)\n",
    "with open(full_url,\"w\") as file:\n",
    "    json.dump(output,file,ensure_ascii=False)\n",
    "print(\"Arquivo com resultados gerados\")"
   ]
  },
  {
   "cell_type": "markdown",
   "metadata": {},
   "source": [
    "# Prever Produtos"
   ]
  },
  {
   "cell_type": "code",
   "execution_count": 2,
   "metadata": {
    "ExecuteTime": {
     "end_time": "2022-08-30T22:39:16.986592Z",
     "start_time": "2022-08-30T22:26:46.487173Z"
    },
    "tags": []
   },
   "outputs": [
    {
     "name": "stdout",
     "output_type": "stream",
     "text": [
      "1/1 [==============================] - 0s 173ms/step\n",
      "Arquivo com resultados gerados\n",
      "1/1 [==============================] - 0s 147ms/step\n",
      "Arquivo com resultados gerados\n",
      "1/1 [==============================] - 0s 139ms/step\n",
      "Arquivo com resultados gerados\n",
      "1/1 [==============================] - 0s 142ms/step\n",
      "Arquivo com resultados gerados\n",
      "WARNING:tensorflow:5 out of the last 5 calls to <function Model.make_predict_function.<locals>.predict_function at 0x00000162730A44C0> triggered tf.function retracing. Tracing is expensive and the excessive number of tracings could be due to (1) creating @tf.function repeatedly in a loop, (2) passing tensors with different shapes, (3) passing Python objects instead of tensors. For (1), please define your @tf.function outside of the loop. For (2), @tf.function has reduce_retracing=True option that can avoid unnecessary retracing. For (3), please refer to https://www.tensorflow.org/guide/function#controlling_retracing and https://www.tensorflow.org/api_docs/python/tf/function for  more details.\n",
      "1/1 [==============================] - 0s 137ms/step\n",
      "Arquivo com resultados gerados\n",
      "WARNING:tensorflow:6 out of the last 6 calls to <function Model.make_predict_function.<locals>.predict_function at 0x000001626F8F0D30> triggered tf.function retracing. Tracing is expensive and the excessive number of tracings could be due to (1) creating @tf.function repeatedly in a loop, (2) passing tensors with different shapes, (3) passing Python objects instead of tensors. For (1), please define your @tf.function outside of the loop. For (2), @tf.function has reduce_retracing=True option that can avoid unnecessary retracing. For (3), please refer to https://www.tensorflow.org/guide/function#controlling_retracing and https://www.tensorflow.org/api_docs/python/tf/function for  more details.\n",
      "1/1 [==============================] - 0s 138ms/step\n",
      "Arquivo com resultados gerados\n",
      "1/1 [==============================] - 0s 137ms/step\n",
      "Arquivo com resultados gerados\n",
      "1/1 [==============================] - 0s 175ms/step\n",
      "Arquivo com resultados gerados\n",
      "1/1 [==============================] - 0s 138ms/step\n",
      "Arquivo com resultados gerados\n",
      "1/1 [==============================] - 0s 137ms/step\n",
      "Arquivo com resultados gerados\n",
      "1/1 [==============================] - 0s 137ms/step\n",
      "Arquivo com resultados gerados\n",
      "1/1 [==============================] - 0s 311ms/step\n",
      "Arquivo com resultados gerados\n",
      "1/1 [==============================] - 0s 138ms/step\n",
      "Arquivo com resultados gerados\n",
      "1/1 [==============================] - 0s 140ms/step\n",
      "Arquivo com resultados gerados\n",
      "1/1 [==============================] - 0s 157ms/step\n",
      "Arquivo com resultados gerados\n",
      "1/1 [==============================] - 0s 139ms/step\n",
      "Arquivo com resultados gerados\n",
      "1/1 [==============================] - 0s 136ms/step\n",
      "Arquivo com resultados gerados\n",
      "1/1 [==============================] - 0s 138ms/step\n",
      "Arquivo com resultados gerados\n",
      "1/1 [==============================] - 0s 138ms/step\n",
      "Arquivo com resultados gerados\n",
      "1/1 [==============================] - 0s 140ms/step\n",
      "Arquivo com resultados gerados\n",
      "1/1 [==============================] - 0s 175ms/step\n",
      "Arquivo com resultados gerados\n",
      "1/1 [==============================] - 0s 139ms/step\n",
      "Arquivo com resultados gerados\n",
      "1/1 [==============================] - 0s 138ms/step\n",
      "Arquivo com resultados gerados\n",
      "1/1 [==============================] - 0s 138ms/step\n",
      "Arquivo com resultados gerados\n"
     ]
    }
   ],
   "source": [
    "path_inicial = \"../../data/datasets_produtos/\"\n",
    "\n",
    "regioes = ['ilheus', 'itabuna']\n",
    "produtos = ['acucar', 'arroz', 'banana', 'cafe', 'carne', 'farinha', 'feijao', 'leite',\n",
    "            'manteiga', 'oleo', 'pao', 'tomate']\n",
    "\n",
    "for regiao in regioes:\n",
    "    for objeto in produtos:\n",
    "        #Carrega os dados\n",
    "        path = f'{path_inicial}{regiao}/{objeto}_{regiao}.xlsx'\n",
    "        cesta = pd.read_excel(path)\n",
    "        cesta.drop(['ano'], axis=1, inplace=True)\n",
    "        cesta = cesta / 1000\n",
    "        cesta = cesta.iloc[::]\n",
    "\n",
    "        #Cria sequencias de tempo de tamanho (meses anteriores + meses a serem previstos)\n",
    "        for n_step in range(1, look_back + forecast_horizon):\n",
    "            cesta[f'preco t(h + {n_step})'] = cesta['preco'].shift(-n_step).values\n",
    "        cesta.dropna(inplace=True)\n",
    "        cesta.reset_index(drop=True, inplace=True)\n",
    "\n",
    "        #Divide os dados em Treino e Teste\n",
    "        X_train = cesta.iloc[::, :look_back:].values\n",
    "        y_train = cesta.iloc[::, look_back::].values\n",
    "        X_val = cesta.iloc[-1::, -12::].values\n",
    "\n",
    "        #remodela os dados para formato (batches, sequencia de tempo, features)\n",
    "        X_train = X_train.reshape((X_train.shape[0], X_train.shape[1], 1))\n",
    "        X_val = X_val.reshape((X_val.shape[0], X_val.shape[1], 1))\n",
    "\n",
    "        #Cria o modelo\n",
    "        model=Sequential()\n",
    "        model.add(SimpleRNN(24, stateful=True, input_shape=(look_back, 1), batch_input_shape=(1, look_back, 1)))\n",
    "        model.add(Dense(forecast_horizon))\n",
    "        model.compile(loss='mean_squared_error', optimizer=tf.keras.optimizers.Adam(learning_rate=0.0003))\n",
    "\n",
    "        #Treina e prever (forecast_horizon) quantidade de tempo\n",
    "        history = model.fit(X_train, y_train, epochs= 150, batch_size=1, shuffle=False, verbose=0)\n",
    "        forecast = model.predict(X_val, batch_size=1)\n",
    "\n",
    "        results = [value for value in forecast[0]]\n",
    "        objeto = objeto.replace(\" \", '_')\n",
    "        output = {objeto.lower():str(results)}\n",
    "\n",
    "        if forecast_horizon == 12:\n",
    "            file_name = f\"previsao_RNN_12_meses_{objeto.lower()}_{regiao.lower()}.json\"\n",
    "        else:\n",
    "            file_name = f\"previsao_RNN_{objeto.lower()}_{regiao.lower()}.json\"\n",
    "\n",
    "        full_url = f\"../../output/previsoes_produtos/{regiao}/{file_name}\"\n",
    "        os.makedirs(os.path.dirname(full_url), exist_ok=True)\n",
    "        with open(full_url,\"w\") as file:\n",
    "            json.dump(output,file,ensure_ascii=False)\n",
    "        print(\"Arquivo com resultados gerados\")"
   ]
  }
 ],
 "metadata": {
  "kernelspec": {
   "display_name": "cesta",
   "language": "python",
   "name": "python3"
  },
  "language_info": {
   "codemirror_mode": {
    "name": "ipython",
    "version": 3
   },
   "file_extension": ".py",
   "mimetype": "text/x-python",
   "name": "python",
   "nbconvert_exporter": "python",
   "pygments_lexer": "ipython3",
   "version": "3.10.12"
  }
 },
 "nbformat": 4,
 "nbformat_minor": 4
}
